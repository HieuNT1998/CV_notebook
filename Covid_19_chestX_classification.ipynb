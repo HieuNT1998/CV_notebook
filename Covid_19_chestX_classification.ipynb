{
  "nbformat": 4,
  "nbformat_minor": 0,
  "metadata": {
    "colab": {
      "name": "Covid_19.ipynb",
      "provenance": [],
      "collapsed_sections": []
    },
    "kernelspec": {
      "name": "python3",
      "display_name": "Python 3"
    },
    "accelerator": "GPU"
  },
  "cells": [
    {
      "cell_type": "code",
      "metadata": {
        "id": "DE367ogkqi5-",
        "colab_type": "code",
        "colab": {
          "base_uri": "https://localhost:8080/",
          "height": 125
        },
        "outputId": "1d25c44e-e8b0-4589-a11c-c701e7d852d5"
      },
      "source": [
        "from google.colab import drive\n",
        "drive.mount('/content/drive')"
      ],
      "execution_count": null,
      "outputs": [
        {
          "output_type": "stream",
          "text": [
            "Go to this URL in a browser: https://accounts.google.com/o/oauth2/auth?client_id=947318989803-6bn6qk8qdgf4n4g3pfee6491hc0brc4i.apps.googleusercontent.com&redirect_uri=urn%3aietf%3awg%3aoauth%3a2.0%3aoob&response_type=code&scope=email%20https%3a%2f%2fwww.googleapis.com%2fauth%2fdocs.test%20https%3a%2f%2fwww.googleapis.com%2fauth%2fdrive%20https%3a%2f%2fwww.googleapis.com%2fauth%2fdrive.photos.readonly%20https%3a%2f%2fwww.googleapis.com%2fauth%2fpeopleapi.readonly\n",
            "\n",
            "Enter your authorization code:\n",
            "··········\n",
            "Mounted at /content/drive\n"
          ],
          "name": "stdout"
        }
      ]
    },
    {
      "cell_type": "code",
      "metadata": {
        "id": "XpoICX-BuEbD",
        "colab_type": "code",
        "colab": {
          "base_uri": "https://localhost:8080/",
          "height": 35
        },
        "outputId": "ae77a858-fda0-46ee-a7e1-4a598bfaf151"
      },
      "source": [
        "import numpy as np\n",
        "import cv2, random\n",
        "import matplotlib.pyplot as plt\n",
        "import keras\n",
        "from keras.layers import *\n",
        "from keras.models import * \n",
        "from keras.preprocessing import image\n",
        "from sklearn.preprocessing import normalize\n",
        "from keras.preprocessing.image import ImageDataGenerator, array_to_img, img_to_array, load_img\n",
        "import os"
      ],
      "execution_count": null,
      "outputs": [
        {
          "output_type": "stream",
          "text": [
            "Using TensorFlow backend.\n"
          ],
          "name": "stderr"
        }
      ]
    },
    {
      "cell_type": "markdown",
      "metadata": {
        "id": "oOINHkCrzAwQ",
        "colab_type": "text"
      },
      "source": [
        "# process data"
      ]
    },
    {
      "cell_type": "code",
      "metadata": {
        "id": "25aivL_XscE9",
        "colab_type": "code",
        "colab": {}
      },
      "source": [
        "!unzip -q 'drive/My Drive/Colab Notebooks/pytorch tut/covid19/full_unbalance_dataset.zip' -d full_unbalance_dataset"
      ],
      "execution_count": null,
      "outputs": []
    },
    {
      "cell_type": "code",
      "metadata": {
        "id": "xqF0nujEyrvX",
        "colab_type": "code",
        "colab": {}
      },
      "source": [
        "x_covid_train_path = 'full_unbalance_dataset/dataset/Train/Covid'\n",
        "x_normal_train_path = 'full_unbalance_dataset/dataset/Train/Normal'\n",
        "x_covid_val_path = 'full_unbalance_dataset/dataset/Val/Covid'\n",
        "x_normal_val_path = 'full_unbalance_dataset/dataset/Val/Normal'"
      ],
      "execution_count": null,
      "outputs": []
    },
    {
      "cell_type": "code",
      "metadata": {
        "id": "Ay01TqLBv658",
        "colab_type": "code",
        "colab": {}
      },
      "source": [
        "x_covid_train = [os.path.join(x_covid_train_path,i) for i in os.listdir(x_covid_train_path)]\n",
        "x_normal_train = [os.path.join(x_normal_train_path,i) for i in os.listdir(x_normal_train_path)]\n",
        "x_covid_val = [os.path.join(x_covid_val_path,i) for i in os.listdir(x_covid_val_path)]\n",
        "x_normal_val = [os.path.join(x_normal_val_path,i) for i in os.listdir(x_normal_val_path)]"
      ],
      "execution_count": null,
      "outputs": []
    },
    {
      "cell_type": "code",
      "metadata": {
        "id": "3S0jyXPmv7F1",
        "colab_type": "code",
        "colab": {}
      },
      "source": [
        "y_covid_train = [0 for i in range(len(x_covid_train))]\n",
        "y_normal_train = [1 for i in range(len(x_normal_train))]\n",
        "y_covid_val = [0 for i in range(len(x_covid_val))]\n",
        "y_normal_val = [1 for i in range(len(x_normal_val))]"
      ],
      "execution_count": null,
      "outputs": []
    },
    {
      "cell_type": "code",
      "metadata": {
        "id": "Rjjv_KPtv7Rl",
        "colab_type": "code",
        "colab": {}
      },
      "source": [
        "x_train = x_covid_train + x_normal_train\n",
        "x_val = x_covid_val + x_normal_val\n",
        "\n",
        "y_train = y_covid_train + y_normal_train\n",
        "y_val = y_covid_val + y_normal_val"
      ],
      "execution_count": null,
      "outputs": []
    },
    {
      "cell_type": "code",
      "metadata": {
        "id": "iiq1Tr4Bv7UJ",
        "colab_type": "code",
        "colab": {
          "base_uri": "https://localhost:8080/",
          "height": 35
        },
        "outputId": "4f7e5baa-4533-4e35-91d7-0ccc15517cce"
      },
      "source": [
        "print(len(x_train),len(y_train),len(x_val),len(y_val))"
      ],
      "execution_count": null,
      "outputs": [
        {
          "output_type": "stream",
          "text": [
            "453 453 130 130\n"
          ],
          "name": "stdout"
        }
      ]
    },
    {
      "cell_type": "code",
      "metadata": {
        "id": "UFStv_m0v7W_",
        "colab_type": "code",
        "colab": {}
      },
      "source": [
        "z = list(zip(x_train, y_train))\n",
        "random.shuffle(z)\n",
        "x_train, y_train = zip(*z)"
      ],
      "execution_count": null,
      "outputs": []
    },
    {
      "cell_type": "code",
      "metadata": {
        "id": "kaxHjp71v7Zh",
        "colab_type": "code",
        "colab": {}
      },
      "source": [
        "z = list(zip(x_val,y_val))\n",
        "random.shuffle(z)\n",
        "x_val,y_val = zip(*z)"
      ],
      "execution_count": null,
      "outputs": []
    },
    {
      "cell_type": "code",
      "metadata": {
        "id": "0a-h3Dklv7cF",
        "colab_type": "code",
        "colab": {}
      },
      "source": [
        "def read_image(image_path):\n",
        "  image = cv2.imread(image_path)\n",
        "  image = cv2.cvtColor(image,cv2.COLOR_BGR2RGB)\n",
        "  return cv2.resize(image,(224,224),interpolation = cv2.INTER_CUBIC)\n",
        "def load_data(list_path):\n",
        "  image_list= []\n",
        "  for i, image_path in enumerate(list_path):\n",
        "    image = read_image(image_path)\n",
        "    image_list.append(image)\n",
        "    if i % 500 == 0 : print('load {} in {} images'.format(i,len(list_path)))\n",
        "  return image_list"
      ],
      "execution_count": null,
      "outputs": []
    },
    {
      "cell_type": "code",
      "metadata": {
        "id": "U_ljZPCm2ACF",
        "colab_type": "code",
        "colab": {
          "base_uri": "https://localhost:8080/",
          "height": 52
        },
        "outputId": "9d399b0b-f814-446d-9c0b-7332e4b81fb7"
      },
      "source": [
        "x_train = load_data(x_train)\n",
        "x_val = load_data(x_val)"
      ],
      "execution_count": null,
      "outputs": [
        {
          "output_type": "stream",
          "text": [
            "load 0 in 224 images\n",
            "load 0 in 60 images\n"
          ],
          "name": "stdout"
        }
      ]
    },
    {
      "cell_type": "code",
      "metadata": {
        "id": "DJjFdFO82APm",
        "colab_type": "code",
        "colab": {}
      },
      "source": [
        "label_name = ['covid', 'normal']\n",
        "# demo data\n",
        "for i in range(5) :\n",
        "  print(\"{}\".format(label_name[y_train[i]]))\n",
        "  plt.imshow(x_train[i])\n",
        "  plt.show()\n",
        "  "
      ],
      "execution_count": null,
      "outputs": []
    },
    {
      "cell_type": "code",
      "metadata": {
        "id": "4zJLdakB2cza",
        "colab_type": "code",
        "colab": {
          "base_uri": "https://localhost:8080/",
          "height": 35
        },
        "outputId": "a08b4b83-59a0-4f2d-baac-7b05de60ec8b"
      },
      "source": [
        "one_hot_labels = np.zeros((len(y_train),2))\n",
        "for i in range(len(y_train)) :\n",
        "  one_hot_labels[i][y_train[i]] = 1\n",
        "y_train_1hot = one_hot_labels\n",
        "y_train_1hot.shape"
      ],
      "execution_count": null,
      "outputs": [
        {
          "output_type": "execute_result",
          "data": {
            "text/plain": [
              "(224, 2)"
            ]
          },
          "metadata": {
            "tags": []
          },
          "execution_count": 67
        }
      ]
    },
    {
      "cell_type": "code",
      "metadata": {
        "id": "_F18kbC_2c4h",
        "colab_type": "code",
        "colab": {
          "base_uri": "https://localhost:8080/",
          "height": 35
        },
        "outputId": "9fa2ef0a-ff80-4e68-8181-0af63b2f5d46"
      },
      "source": [
        "one_hot_labels = np.zeros((len(y_val),2))\n",
        "for i in range(len(y_val)) :\n",
        "  one_hot_labels[i][y_val[i]] = 1\n",
        "y_val_1hot = one_hot_labels\n",
        "y_val_1hot.shape"
      ],
      "execution_count": null,
      "outputs": [
        {
          "output_type": "execute_result",
          "data": {
            "text/plain": [
              "(60, 2)"
            ]
          },
          "metadata": {
            "tags": []
          },
          "execution_count": 68
        }
      ]
    },
    {
      "cell_type": "markdown",
      "metadata": {
        "id": "OHmShmWh3BHx",
        "colab_type": "text"
      },
      "source": [
        "# Build model"
      ]
    },
    {
      "cell_type": "code",
      "metadata": {
        "id": "wezn6U6X2dA3",
        "colab_type": "code",
        "colab": {}
      },
      "source": [
        "# optim = keras.optimizers.Adam(learning_rate=0.00001)\n",
        "model = Sequential()\n",
        "model.add(Conv2D(32,kernel_size=(3,3),activation='relu',input_shape=(224,224,3)))\n",
        "model.add(Conv2D(128,(3,3),activation='relu'))\n",
        "model.add(MaxPooling2D(pool_size=(2,2)))\n",
        "model.add(Dropout(0.25))\n",
        "\n",
        "model.add(Conv2D(64,(3,3),activation='relu'))\n",
        "model.add(Conv2D(64,(3,3),activation='relu'))\n",
        "model.add(MaxPooling2D(pool_size=(2,2)))\n",
        "model.add(Dropout(0.25))\n",
        "\n",
        "model.add(Conv2D(128,(3,3),activation='relu'))\n",
        "model.add(Conv2D(128,(3,3),activation='relu'))\n",
        "model.add(MaxPooling2D(pool_size=(2,2)))\n",
        "model.add(Dropout(0.25))\n",
        "\n",
        "model.add(Flatten())\n",
        "model.add(Dense(128,activation='relu'))\n",
        "model.add(Dropout(0.5))\n",
        "model.add(Dense(128,activation='relu'))\n",
        "model.add(Dropout(0.5))\n",
        "model.add(Dense(1,activation='sigmoid'))\n",
        "\n",
        "model.compile(loss=keras.losses.binary_crossentropy,optimizer=\"adam\",metrics=['accuracy'])"
      ],
      "execution_count": null,
      "outputs": []
    },
    {
      "cell_type": "markdown",
      "metadata": {
        "id": "-YPCzaosSTEK",
        "colab_type": "text"
      },
      "source": [
        "# data argument"
      ]
    },
    {
      "cell_type": "code",
      "metadata": {
        "id": "r46N4ecbXR-6",
        "colab_type": "code",
        "colab": {}
      },
      "source": [
        "x_train = np.array(x_train)"
      ],
      "execution_count": null,
      "outputs": []
    },
    {
      "cell_type": "code",
      "metadata": {
        "id": "zDsrZRc2Wfvr",
        "colab_type": "code",
        "colab": {}
      },
      "source": [
        "x_train = np.reshape((1,)+x_train.shape)"
      ],
      "execution_count": null,
      "outputs": []
    },
    {
      "cell_type": "code",
      "metadata": {
        "id": "LgQh2XXl8bFM",
        "colab_type": "code",
        "colab": {
          "base_uri": "https://localhost:8080/",
          "height": 52
        },
        "outputId": "6b30f3f0-c616-4172-f371-99e711f3cbf1"
      },
      "source": [
        "batch_size = 32\n",
        "\n",
        "train_datagen = ImageDataGenerator(\n",
        "        rescale=1./255,\n",
        "        shear_range=0.2,\n",
        "        zoom_range=0.2,\n",
        "        horizontal_flip=True)\n",
        "\n",
        "test_datagen = ImageDataGenerator(rescale=1./255)\n",
        "\n",
        "train_generator = train_datagen.flow_from_directory(\n",
        "        'full_unbalance_dataset/dataset/Train',\n",
        "        target_size=(224, 224),  \n",
        "        batch_size=batch_size,\n",
        "        class_mode='binary') \n",
        "\n",
        "validation_generator = test_datagen.flow_from_directory(\n",
        "        'full_unbalance_dataset/dataset/Val',\n",
        "        target_size=(224, 224),\n",
        "        batch_size=batch_size,\n",
        "        class_mode='binary')\n"
      ],
      "execution_count": null,
      "outputs": [
        {
          "output_type": "stream",
          "text": [
            "Found 453 images belonging to 2 classes.\n",
            "Found 130 images belonging to 2 classes.\n"
          ],
          "name": "stdout"
        }
      ]
    },
    {
      "cell_type": "markdown",
      "metadata": {
        "id": "DwRwBF1X39Ha",
        "colab_type": "text"
      },
      "source": [
        "# Training"
      ]
    },
    {
      "cell_type": "code",
      "metadata": {
        "id": "flyYWFC_2c-Y",
        "colab_type": "code",
        "colab": {}
      },
      "source": [
        "model.summary()"
      ],
      "execution_count": null,
      "outputs": []
    },
    {
      "cell_type": "code",
      "metadata": {
        "id": "TrNdu6oP2c79",
        "colab_type": "code",
        "colab": {
          "base_uri": "https://localhost:8080/",
          "height": 367
        },
        "outputId": "f8cc106c-008c-4dfc-8d4f-3a70c7a700a1"
      },
      "source": [
        "hist_new = model.fit_generator(\n",
        "        train_generator,\n",
        "        # steps_per_epoch=15,\n",
        "        epochs=10,\n",
        "        validation_data=validation_generator,\n",
        "        validation_steps=5\n",
        "        )\n",
        "model.save_weights('first_try.h5') "
      ],
      "execution_count": null,
      "outputs": [
        {
          "output_type": "stream",
          "text": [
            "Epoch 1/10\n",
            "15/15 [==============================] - 18s 1s/step - loss: 0.6453 - accuracy: 0.7020 - val_loss: 0.4495 - val_accuracy: 0.7692\n",
            "Epoch 2/10\n",
            "15/15 [==============================] - 17s 1s/step - loss: 0.5627 - accuracy: 0.7528 - val_loss: 0.4183 - val_accuracy: 0.7692\n",
            "Epoch 3/10\n",
            "15/15 [==============================] - 17s 1s/step - loss: 0.4454 - accuracy: 0.7660 - val_loss: 0.0596 - val_accuracy: 0.8769\n",
            "Epoch 4/10\n",
            "15/15 [==============================] - 17s 1s/step - loss: 0.3578 - accuracy: 0.8631 - val_loss: 0.1598 - val_accuracy: 0.8846\n",
            "Epoch 5/10\n",
            "15/15 [==============================] - 17s 1s/step - loss: 0.2436 - accuracy: 0.9007 - val_loss: 8.6935e-06 - val_accuracy: 0.8692\n",
            "Epoch 6/10\n",
            "15/15 [==============================] - 17s 1s/step - loss: 0.1790 - accuracy: 0.9139 - val_loss: 0.1278 - val_accuracy: 0.8846\n",
            "Epoch 7/10\n",
            "15/15 [==============================] - 17s 1s/step - loss: 0.2370 - accuracy: 0.9095 - val_loss: 0.1409 - val_accuracy: 0.8154\n",
            "Epoch 8/10\n",
            "15/15 [==============================] - 17s 1s/step - loss: 0.4246 - accuracy: 0.9139 - val_loss: 0.6996 - val_accuracy: 0.8846\n",
            "Epoch 9/10\n",
            "15/15 [==============================] - 17s 1s/step - loss: 0.2499 - accuracy: 0.9205 - val_loss: 0.1904 - val_accuracy: 0.7923\n",
            "Epoch 10/10\n",
            "15/15 [==============================] - 17s 1s/step - loss: 0.1539 - accuracy: 0.9338 - val_loss: 1.0646 - val_accuracy: 0.8154\n"
          ],
          "name": "stdout"
        }
      ]
    },
    {
      "cell_type": "code",
      "metadata": {
        "id": "Hbwqp4--4qYI",
        "colab_type": "code",
        "colab": {
          "base_uri": "https://localhost:8080/",
          "height": 282
        },
        "outputId": "69d3a3b1-6fd7-4b38-fdb1-4b7671690e93"
      },
      "source": [
        "x = [i+1 for i in range(10)]\n",
        "plt.plot(x,hist_new.history['loss'])\n",
        "plt.plot(x,hist_new.history['val_loss'])"
      ],
      "execution_count": null,
      "outputs": [
        {
          "output_type": "execute_result",
          "data": {
            "text/plain": [
              "[<matplotlib.lines.Line2D at 0x7f69780cdcf8>]"
            ]
          },
          "metadata": {
            "tags": []
          },
          "execution_count": 20
        },
        {
          "output_type": "display_data",
          "data": {
            "image/png": "[encoded data removed]",
            "text/plain": [
              "<Figure size 432x288 with 1 Axes>"
            ]
          },
          "metadata": {
            "tags": [],
            "needs_background": "light"
          }
        }
      ]
    },
    {
      "cell_type": "markdown",
      "metadata": {
        "id": "lfgwBjHN88vz",
        "colab_type": "text"
      },
      "source": [
        "# confusion matrix "
      ]
    },
    {
      "cell_type": "code",
      "metadata": {
        "id": "y-W4bV_Z8zQs",
        "colab_type": "code",
        "colab": {
          "base_uri": "https://localhost:8080/",
          "height": 35
        },
        "outputId": "c0af8f55-3faf-41b4-f124-35f27dba17a7"
      },
      "source": [
        "import os\n",
        "train_generator.class_indices "
      ],
      "execution_count": null,
      "outputs": [
        {
          "output_type": "execute_result",
          "data": {
            "text/plain": [
              "{'Covid': 0, 'Normal': 1}"
            ]
          },
          "metadata": {
            "tags": []
          },
          "execution_count": 21
        }
      ]
    },
    {
      "cell_type": "code",
      "metadata": {
        "id": "PPZp-31s84Ud",
        "colab_type": "code",
        "colab": {}
      },
      "source": [
        "y_actual, y_test = [], [] "
      ],
      "execution_count": null,
      "outputs": []
    },
    {
      "cell_type": "code",
      "metadata": {
        "id": "h3NEV68R2c2J",
        "colab_type": "code",
        "colab": {}
      },
      "source": [
        "for i in os.listdir(\"full_unbalance_dataset/dataset/Val/Normal/\"):\n",
        "    img = image.load_img(\"full_unbalance_dataset/dataset/Val/Normal/\"+i, target_size=(224,224))\n",
        "    img = image.img_to_array(img)\n",
        "    img = np.expand_dims(img, axis=0)\n",
        "    pred = model.predict_classes(img)\n",
        "    y_test.append(pred[0,0])\n",
        "    y_actual.append(1)"
      ],
      "execution_count": null,
      "outputs": []
    },
    {
      "cell_type": "code",
      "metadata": {
        "id": "Nmm04bfX9fgE",
        "colab_type": "code",
        "colab": {}
      },
      "source": [
        "for i in os.listdir(\"full_unbalance_dataset/dataset/Val/Covid/\"):\n",
        "    img = image.load_img(\"full_unbalance_dataset/dataset/Val/Covid/\"+i, target_size=(224,224))\n",
        "    img = image.img_to_array(img)\n",
        "    img = np.expand_dims(img, axis=0)\n",
        "    pred = model.predict_classes(img)\n",
        "    y_test.append(pred[0,0])\n",
        "    y_actual.append(0)"
      ],
      "execution_count": null,
      "outputs": []
    },
    {
      "cell_type": "code",
      "metadata": {
        "id": "93sM5AYc9ftp",
        "colab_type": "code",
        "colab": {}
      },
      "source": [
        "y_actual = np.array(y_actual)\n",
        "y_test = np.array(y_test)"
      ],
      "execution_count": null,
      "outputs": []
    },
    {
      "cell_type": "code",
      "metadata": {
        "id": "Z87zzp_G9Ks3",
        "colab_type": "code",
        "colab": {}
      },
      "source": [
        "from sklearn.metrics import confusion_matrix\n",
        "import seaborn as sns\n",
        "cn = confusion_matrix(y_actual, y_test)"
      ],
      "execution_count": null,
      "outputs": []
    },
    {
      "cell_type": "code",
      "metadata": {
        "id": "4mzyhO6_9Kx6",
        "colab_type": "code",
        "colab": {
          "base_uri": "https://localhost:8080/",
          "height": 282
        },
        "outputId": "fac90f61-1db9-402e-c7b1-a21233dd8702"
      },
      "source": [
        "sns.heatmap(cn, cmap=\"plasma\", annot=True) #0: Covid; 1: Normal"
      ],
      "execution_count": null,
      "outputs": [
        {
          "output_type": "execute_result",
          "data": {
            "text/plain": [
              "<matplotlib.axes._subplots.AxesSubplot at 0x7f696c309ba8>"
            ]
          },
          "metadata": {
            "tags": []
          },
          "execution_count": 29
        },
        {
          "output_type": "display_data",
          "data": {
            "image/png": "[encoded data removed]",
            "text/plain": [
              "<Figure size 432x288 with 2 Axes>"
            ]
          },
          "metadata": {
            "tags": [],
            "needs_background": "light"
          }
        }
      ]
    },
    {
      "cell_type": "code",
      "metadata": {
        "id": "PvSxI6p89Kvj",
        "colab_type": "code",
        "colab": {}
      },
      "source": [
        ""
      ],
      "execution_count": null,
      "outputs": []
    }
  ]
}